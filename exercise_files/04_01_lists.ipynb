{
  "cells": [
    {
      "cell_type": "markdown",
      "id": "aec5c7a9",
      "metadata": {
        "id": "aec5c7a9"
      },
      "source": [
        "## Lists"
      ]
    },
    {
      "cell_type": "markdown",
      "id": "6b95c52f",
      "metadata": {
        "id": "6b95c52f"
      },
      "source": [
        "### List Slicing"
      ]
    },
    {
      "cell_type": "code",
      "execution_count": null,
      "id": "f3869ca7",
      "metadata": {
        "id": "f3869ca7"
      },
      "outputs": [],
      "source": [
        "myList = [1,2,3,4,5]\n",
        "myList[3:]"
      ]
    },
    {
      "cell_type": "code",
      "execution_count": null,
      "id": "e6fef4b7",
      "metadata": {
        "id": "e6fef4b7"
      },
      "outputs": [],
      "source": [
        "myList[0:6:1]"
      ]
    },
    {
      "cell_type": "code",
      "execution_count": null,
      "id": "6d587461",
      "metadata": {
        "id": "6d587461"
      },
      "outputs": [],
      "source": [
        "myList[0:6:2]\n",
        "# output = 1,3,5"
      ]
    },
    {
      "cell_type": "code",
      "execution_count": null,
      "id": "3103c64d",
      "metadata": {
        "id": "3103c64d"
      },
      "outputs": [],
      "source": [
        "for i in range(20):\n",
        "  print(i)"
      ]
    },
    {
      "cell_type": "code",
      "execution_count": null,
      "id": "3dc127d5",
      "metadata": {
        "id": "3dc127d5"
      },
      "outputs": [],
      "source": [
        "myList = list(range(100))"
      ]
    },
    {
      "cell_type": "code",
      "execution_count": null,
      "id": "57f1b769",
      "metadata": {
        "id": "57f1b769"
      },
      "outputs": [],
      "source": [
        "myList[::-10\n",
        "       ]"
      ]
    },
    {
      "cell_type": "code",
      "execution_count": null,
      "id": "6b968843",
      "metadata": {
        "id": "6b968843"
      },
      "outputs": [],
      "source": [
        "myList[::10]"
      ]
    },
    {
      "cell_type": "code",
      "execution_count": null,
      "id": "d6b81548",
      "metadata": {
        "id": "d6b81548"
      },
      "outputs": [],
      "source": []
    },
    {
      "cell_type": "markdown",
      "id": "d138451b",
      "metadata": {
        "id": "d138451b"
      },
      "source": [
        "### Modifying Lists"
      ]
    },
    {
      "cell_type": "code",
      "execution_count": 54,
      "id": "5c065aff",
      "metadata": {
        "id": "5c065aff",
        "outputId": "51707968-a2b4-4db7-84a0-895d28443c7f",
        "colab": {
          "base_uri": "https://localhost:8080/"
        }
      },
      "outputs": [
        {
          "output_type": "stream",
          "name": "stdout",
          "text": [
            "[1, 2, 3, 4, 5]\n"
          ]
        }
      ],
      "source": [
        "myList = [1,2,3,4]\n",
        "myList.append(5)\n",
        "print(myList)"
      ]
    },
    {
      "cell_type": "code",
      "execution_count": 55,
      "id": "93e06c86",
      "metadata": {
        "id": "93e06c86",
        "outputId": "66c35636-cda0-45b8-ab60-34f0483ea711",
        "colab": {
          "base_uri": "https://localhost:8080/"
        }
      },
      "outputs": [
        {
          "output_type": "stream",
          "name": "stdout",
          "text": [
            "[1, 2, 3, 4, 6, 5]\n"
          ]
        }
      ],
      "source": [
        "myList.insert(4,6)\n",
        "print(myList)"
      ]
    },
    {
      "cell_type": "code",
      "execution_count": 56,
      "id": "860ff53b",
      "metadata": {
        "id": "860ff53b",
        "outputId": "fb99e1b8-509d-4a07-9d41-edbad1245720",
        "colab": {
          "base_uri": "https://localhost:8080/"
        }
      },
      "outputs": [
        {
          "output_type": "stream",
          "name": "stdout",
          "text": [
            "[1, 2, 3, 6, 5]\n"
          ]
        }
      ],
      "source": [
        "myList.remove(4)\n",
        "print(myList)"
      ]
    },
    {
      "cell_type": "code",
      "execution_count": 57,
      "id": "83863968",
      "metadata": {
        "id": "83863968",
        "outputId": "5949071b-9297-4bbf-aaf6-ef11e6fc1c40",
        "colab": {
          "base_uri": "https://localhost:8080/"
        }
      },
      "outputs": [
        {
          "output_type": "stream",
          "name": "stdout",
          "text": [
            "[1, 2, 3, 6]\n"
          ]
        }
      ],
      "source": [
        "myList.pop()\n",
        "print(myList)"
      ]
    },
    {
      "cell_type": "code",
      "execution_count": 58,
      "id": "d5a8f0cd",
      "metadata": {
        "id": "d5a8f0cd",
        "outputId": "e7c1f17e-1429-4515-c9f8-2451cba14e45",
        "colab": {
          "base_uri": "https://localhost:8080/"
        }
      },
      "outputs": [
        {
          "output_type": "stream",
          "name": "stdout",
          "text": [
            "6\n",
            "3\n",
            "2\n",
            "1\n"
          ]
        }
      ],
      "source": [
        "while len(myList):\n",
        "  print(myList.pop())"
      ]
    },
    {
      "cell_type": "code",
      "execution_count": 62,
      "id": "7d51f9c9",
      "metadata": {
        "id": "7d51f9c9",
        "outputId": "49759400-77b8-4ec3-c9fa-95cde22a54e3",
        "colab": {
          "base_uri": "https://localhost:8080/"
        }
      },
      "outputs": [
        {
          "output_type": "execute_result",
          "data": {
            "text/plain": [
              "[]"
            ]
          },
          "metadata": {},
          "execution_count": 62
        }
      ],
      "source": [
        "myList"
      ]
    },
    {
      "cell_type": "code",
      "execution_count": 65,
      "id": "2356b2a6",
      "metadata": {
        "id": "2356b2a6",
        "outputId": "180f660f-8c59-4a95-8c46-ef16cff410ee",
        "colab": {
          "base_uri": "https://localhost:8080/"
        }
      },
      "outputs": [
        {
          "output_type": "stream",
          "name": "stdout",
          "text": [
            "[1, 2, 3, 4, 5, 6]\n",
            "<built-in method copy of list object at 0x7fbadae5d700>\n"
          ]
        }
      ],
      "source": [
        "a = [1,2,3,4,5]\n",
        "b = a.copy\n",
        "a.append(6)\n",
        "print(a)\n",
        "print(b)"
      ]
    },
    {
      "cell_type": "code",
      "execution_count": null,
      "id": "5ddad205",
      "metadata": {
        "id": "5ddad205"
      },
      "outputs": [],
      "source": []
    },
    {
      "cell_type": "code",
      "execution_count": null,
      "id": "501f1468",
      "metadata": {
        "id": "501f1468"
      },
      "outputs": [],
      "source": []
    },
    {
      "cell_type": "code",
      "execution_count": null,
      "id": "89a368d1",
      "metadata": {
        "id": "89a368d1"
      },
      "outputs": [],
      "source": []
    },
    {
      "cell_type": "code",
      "execution_count": null,
      "id": "6e1ceb3e",
      "metadata": {
        "id": "6e1ceb3e"
      },
      "outputs": [],
      "source": []
    },
    {
      "cell_type": "code",
      "execution_count": null,
      "id": "07868576",
      "metadata": {
        "id": "07868576"
      },
      "outputs": [],
      "source": []
    }
  ],
  "metadata": {
    "kernelspec": {
      "display_name": "Python 3 (ipykernel)",
      "language": "python",
      "name": "python3"
    },
    "language_info": {
      "codemirror_mode": {
        "name": "ipython",
        "version": 3
      },
      "file_extension": ".py",
      "mimetype": "text/x-python",
      "name": "python",
      "nbconvert_exporter": "python",
      "pygments_lexer": "ipython3",
      "version": "3.10.2"
    },
    "colab": {
      "provenance": []
    }
  },
  "nbformat": 4,
  "nbformat_minor": 5
}
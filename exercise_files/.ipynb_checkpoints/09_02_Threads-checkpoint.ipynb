{
  "cells": [
    {
      "cell_type": "code",
      "execution_count": 1,
      "id": "48a15793",
      "metadata": {
        "scrolled": true,
        "id": "48a15793"
      },
      "outputs": [],
      "source": [
        "import threading\n",
        "import time"
      ]
    },
    {
      "cell_type": "markdown",
      "id": "5be113b0",
      "metadata": {
        "id": "5be113b0"
      },
      "source": [
        "## Threads"
      ]
    },
    {
      "cell_type": "code",
      "execution_count": 2,
      "id": "230c796a",
      "metadata": {
        "scrolled": true,
        "id": "230c796a",
        "outputId": "e26416ad-9fb7-4a6b-a8de-fb13f755eaa3",
        "colab": {
          "base_uri": "https://localhost:8080/"
        }
      },
      "outputs": [
        {
          "output_type": "execute_result",
          "data": {
            "text/plain": [
              "[0, 1, 4, 9, 16]"
            ]
          },
          "metadata": {},
          "execution_count": 2
        }
      ],
      "source": [
        "def longSquare(num):\n",
        "  time.sleep(1)\n",
        "  return num**2\n",
        "\n",
        "[longSquare(n) for n in range(0,5)]\n",
        "\n"
      ]
    },
    {
      "cell_type": "code",
      "execution_count": 4,
      "id": "f105891d",
      "metadata": {
        "id": "f105891d"
      },
      "outputs": [],
      "source": [
        "t1 = threading.Thread(target=longSquare, args=(1,))\n",
        "t2 = threading.Thread(target=longSquare, args=(2,))\n",
        "\n",
        "t1.start()\n",
        "t2.start()\n",
        "\n",
        "t1.join()\n",
        "t2.join()"
      ]
    },
    {
      "cell_type": "code",
      "execution_count": 5,
      "id": "5be33021",
      "metadata": {
        "id": "5be33021",
        "outputId": "03be61ff-32e0-4cd6-9007-f8d8a810a343",
        "colab": {
          "base_uri": "https://localhost:8080/"
        }
      },
      "outputs": [
        {
          "output_type": "stream",
          "name": "stdout",
          "text": [
            "{1: 1, 2: 4}\n"
          ]
        }
      ],
      "source": [
        "\n",
        "\n",
        "def longSquare(num,results):\n",
        "  time.sleep(1)\n",
        "  results[num] = num**2\n",
        "\n",
        "results = {}\n",
        "t1 = threading.Thread(target=longSquare, args=(1,results))\n",
        "t2 = threading.Thread(target=longSquare, args=(2,results))\n",
        "\n",
        "t1.start()\n",
        "t2.start()\n",
        "\n",
        "t1.join()\n",
        "t2.join()\n",
        "\n",
        "print(results)\n"
      ]
    },
    {
      "cell_type": "code",
      "execution_count": 8,
      "id": "6f9a6201",
      "metadata": {
        "id": "6f9a6201",
        "outputId": "af99f990-70e1-4620-9a85-59a976493fac",
        "colab": {
          "base_uri": "https://localhost:8080/"
        }
      },
      "outputs": [
        {
          "output_type": "stream",
          "name": "stdout",
          "text": [
            "{0: 0, 1: 1, 2: 4, 3: 9, 5: 25, 4: 16, 6: 36, 8: 64, 7: 49, 9: 81, 14: 196, 15: 225, 11: 121, 12: 144, 10: 100, 13: 169, 17: 289, 18: 324, 19: 361, 23: 529, 26: 676, 21: 441, 27: 729, 25: 625, 20: 400, 16: 256, 22: 484, 24: 576, 29: 841, 28: 784, 30: 900, 32: 1024, 36: 1296, 39: 1521, 34: 1156, 40: 1600, 33: 1089, 31: 961, 37: 1369, 38: 1444, 35: 1225, 43: 1849, 49: 2401, 51: 2601, 47: 2209, 53: 2809, 54: 2916, 55: 3025, 52: 2704, 46: 2116, 45: 2025, 44: 1936, 48: 2304, 50: 2500, 42: 1764, 41: 1681, 56: 3136, 57: 3249, 58: 3364, 59: 3481, 60: 3600, 61: 3721, 62: 3844, 63: 3969, 64: 4096, 65: 4225, 66: 4356, 67: 4489, 68: 4624, 69: 4761, 70: 4900, 71: 5041, 72: 5184, 73: 5329, 86: 7396, 85: 7225, 88: 7744, 77: 5929, 90: 8100, 92: 8464, 94: 8836, 96: 9216, 87: 7569, 93: 8649, 79: 6241, 75: 5625, 81: 6561, 78: 6084, 95: 9025, 91: 8281, 89: 7921, 83: 6889, 82: 6724, 74: 5476, 76: 5776, 84: 7056, 80: 6400, 97: 9409, 98: 9604, 99: 9801}\n"
          ]
        }
      ],
      "source": [
        "def longSquare(num,results):\n",
        "  time.sleep(1)\n",
        "  results[num] = num**2\n",
        "\n",
        "results = {}\n",
        "threads = [threading.Thread(target=longSquare,args=(n,results)) for n in range(0,100)]\n",
        "[t.start() for t in threads]\n",
        "[t.join() for t in threads]\n",
        "print(results)\n",
        "\n",
        "\n",
        "\n"
      ]
    },
    {
      "cell_type": "code",
      "execution_count": null,
      "id": "c63a0969",
      "metadata": {
        "id": "c63a0969"
      },
      "outputs": [],
      "source": []
    }
  ],
  "metadata": {
    "kernelspec": {
      "display_name": "Python 3 (ipykernel)",
      "language": "python",
      "name": "python3"
    },
    "language_info": {
      "codemirror_mode": {
        "name": "ipython",
        "version": 3
      },
      "file_extension": ".py",
      "mimetype": "text/x-python",
      "name": "python",
      "nbconvert_exporter": "python",
      "pygments_lexer": "ipython3",
      "version": "3.10.2"
    },
    "colab": {
      "provenance": []
    }
  },
  "nbformat": 4,
  "nbformat_minor": 5
}
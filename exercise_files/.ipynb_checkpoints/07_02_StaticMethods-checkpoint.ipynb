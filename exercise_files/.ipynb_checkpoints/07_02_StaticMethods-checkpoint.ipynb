{
  "cells": [
    {
      "cell_type": "code",
      "execution_count": 2,
      "id": "9bd8b4ad",
      "metadata": {
        "id": "9bd8b4ad"
      },
      "outputs": [],
      "source": [
        "import math"
      ]
    },
    {
      "cell_type": "markdown",
      "id": "25307c3f",
      "metadata": {
        "id": "25307c3f"
      },
      "source": [
        "## Static Methods"
      ]
    },
    {
      "cell_type": "code",
      "execution_count": 5,
      "id": "8bccafd4",
      "metadata": {
        "id": "8bccafd4",
        "outputId": "55dc35b4-3196-4954-80e3-fcaa77ced71d",
        "colab": {
          "base_uri": "https://localhost:8080/"
        }
      },
      "outputs": [
        {
          "output_type": "execute_result",
          "data": {
            "text/plain": [
              "(5.965925826289069, 4.741180954897479)"
            ]
          },
          "metadata": {},
          "execution_count": 5
        }
      ],
      "source": [
        "class Orientation:\n",
        "  def __init__(self, x_pos, y_pos, degrees):\n",
        "    self.x_pos = x_pos\n",
        "    self.y_pos = y_pos\n",
        "    self.x_dir, self.y_dir = self.getUnitVectorFromDegrees(degrees)\n",
        "\n",
        "  def getUnitVectorFromDegrees(self, degrees):\n",
        "    radians = (degrees/180) * math.pi\n",
        "    return math.sin(radians), -math.cos(radians)\n",
        "  \n",
        "  def getNextPos(self):\n",
        "    return self.x_pos + self.x_dir, self.y_pos + self.y_dir\n",
        "\n",
        "myOrientation = Orientation(5,5,75)\n",
        "myOrientation.getNextPos()\n",
        "    \n"
      ]
    },
    {
      "cell_type": "code",
      "source": [
        "class Orientation:\n",
        "    pi = 3.14\n",
        "    def __init__(self, x_pos, y_pos, degrees):\n",
        "        self.x_pos = x_pos\n",
        "        self.y_pos = y_pos\n",
        "        self.x_dir, self.y_dir = Orientation.getUnitVectorFromDegrees(degrees)\n",
        "        \n",
        "    def getUnitVectorFromDegrees(degrees):\n",
        "        radians = (degrees/180) * Orientation.pi\n",
        "        return math.sin(radians), -math.cos(radians)\n",
        "    \n",
        "    def getNextPos(self):\n",
        "        return self.x_pos + self.x_dir, self.y_pos + self.y_dir"
      ],
      "metadata": {
        "id": "_Wq2frJoFROo"
      },
      "id": "_Wq2frJoFROo",
      "execution_count": null,
      "outputs": []
    },
    {
      "cell_type": "code",
      "execution_count": null,
      "id": "a8c51fb5",
      "metadata": {
        "id": "a8c51fb5",
        "outputId": "2f009c22-a423-4178-ce46-1d9ecd090b0e"
      },
      "outputs": [
        {
          "data": {
            "text/plain": [
              "(5.965925826289069, 4.741180954897479)"
            ]
          },
          "execution_count": 9,
          "metadata": {},
          "output_type": "execute_result"
        }
      ],
      "source": [
        "myOrientation = Orientation(5, 5, 75)\n",
        "myOrientation.getNextPos()"
      ]
    },
    {
      "cell_type": "markdown",
      "source": [
        "**Decorators**"
      ],
      "metadata": {
        "id": "bxPlzo-PNjSU"
      },
      "id": "bxPlzo-PNjSU"
    },
    {
      "cell_type": "code",
      "execution_count": null,
      "id": "0de75dc5",
      "metadata": {
        "id": "0de75dc5"
      },
      "outputs": [],
      "source": []
    }
  ],
  "metadata": {
    "kernelspec": {
      "display_name": "Python 3 (ipykernel)",
      "language": "python",
      "name": "python3"
    },
    "language_info": {
      "codemirror_mode": {
        "name": "ipython",
        "version": 3
      },
      "file_extension": ".py",
      "mimetype": "text/x-python",
      "name": "python",
      "nbconvert_exporter": "python",
      "pygments_lexer": "ipython3",
      "version": "3.10.2"
    },
    "colab": {
      "provenance": []
    }
  },
  "nbformat": 4,
  "nbformat_minor": 5
}
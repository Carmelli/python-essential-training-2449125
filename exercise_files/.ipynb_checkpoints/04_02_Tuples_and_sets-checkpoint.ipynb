{
  "cells": [
    {
      "cell_type": "markdown",
      "id": "9ace3b36",
      "metadata": {
        "id": "9ace3b36"
      },
      "source": [
        "## Sets"
      ]
    },
    {
      "cell_type": "code",
      "execution_count": 1,
      "id": "1bb9b937",
      "metadata": {
        "id": "1bb9b937",
        "outputId": "6edb3096-3b5a-4ad8-88ea-27e49ffb9927",
        "colab": {
          "base_uri": "https://localhost:8080/"
        }
      },
      "outputs": [
        {
          "output_type": "execute_result",
          "data": {
            "text/plain": [
              "{'a', 'b', 'c'}"
            ]
          },
          "metadata": {},
          "execution_count": 1
        }
      ],
      "source": [
        "mySet = {'a','b','c'}\n",
        "mySet"
      ]
    },
    {
      "cell_type": "code",
      "source": [
        "mySet = (('a','b','c'))"
      ],
      "metadata": {
        "id": "S9xX-tLjAsSv"
      },
      "id": "S9xX-tLjAsSv",
      "execution_count": null,
      "outputs": []
    },
    {
      "cell_type": "code",
      "source": [
        "mySet"
      ],
      "metadata": {
        "id": "weVdPo8nA4DX",
        "outputId": "0f26a18a-958a-416b-f017-8a6169c3a34c",
        "colab": {
          "base_uri": "https://localhost:8080/"
        }
      },
      "id": "weVdPo8nA4DX",
      "execution_count": 2,
      "outputs": [
        {
          "output_type": "execute_result",
          "data": {
            "text/plain": [
              "{'a', 'b', 'c'}"
            ]
          },
          "metadata": {},
          "execution_count": 2
        }
      ]
    },
    {
      "cell_type": "code",
      "source": [
        "myList = {'a','b','b','c','c'}\n",
        "myList = list(set(myList))\n",
        "myList"
      ],
      "metadata": {
        "id": "y5C4vxXFA5Ux",
        "outputId": "9a75e26f-3c59-45d0-ee31-3f1ec467eee7",
        "colab": {
          "base_uri": "https://localhost:8080/"
        }
      },
      "id": "y5C4vxXFA5Ux",
      "execution_count": 4,
      "outputs": [
        {
          "output_type": "execute_result",
          "data": {
            "text/plain": [
              "['b', 'c', 'a']"
            ]
          },
          "metadata": {},
          "execution_count": 4
        }
      ]
    },
    {
      "cell_type": "code",
      "source": [
        "mySet.add('d')\n",
        "mySet"
      ],
      "metadata": {
        "id": "S0Vbvf62CLDC",
        "outputId": "22008caa-5306-468f-e8cc-1d1e944d6b64",
        "colab": {
          "base_uri": "https://localhost:8080/"
        }
      },
      "id": "S0Vbvf62CLDC",
      "execution_count": 5,
      "outputs": [
        {
          "output_type": "execute_result",
          "data": {
            "text/plain": [
              "{'a', 'b', 'c', 'd'}"
            ]
          },
          "metadata": {},
          "execution_count": 5
        }
      ]
    },
    {
      "cell_type": "code",
      "source": [
        "'a' in mySet"
      ],
      "metadata": {
        "id": "5Hmb8WX7Ca-y",
        "outputId": "39bcd814-444e-4d01-fa1e-b05b57e47718",
        "colab": {
          "base_uri": "https://localhost:8080/"
        }
      },
      "id": "5Hmb8WX7Ca-y",
      "execution_count": 6,
      "outputs": [
        {
          "output_type": "execute_result",
          "data": {
            "text/plain": [
              "True"
            ]
          },
          "metadata": {},
          "execution_count": 6
        }
      ]
    },
    {
      "cell_type": "code",
      "source": [
        "'z' in mySet"
      ],
      "metadata": {
        "id": "2IsVEOKlCggd",
        "outputId": "4b99f8ca-b2d4-4b33-a253-90ae93573f8d",
        "colab": {
          "base_uri": "https://localhost:8080/"
        }
      },
      "id": "2IsVEOKlCggd",
      "execution_count": 7,
      "outputs": [
        {
          "output_type": "execute_result",
          "data": {
            "text/plain": [
              "False"
            ]
          },
          "metadata": {},
          "execution_count": 7
        }
      ]
    },
    {
      "cell_type": "code",
      "source": [
        "while len(mySet):\n",
        "  print(mySet.pop())"
      ],
      "metadata": {
        "id": "ZL5G9S3CC7vN",
        "outputId": "545bcfc9-c619-4a81-b624-dc8c22222b58",
        "colab": {
          "base_uri": "https://localhost:8080/"
        }
      },
      "id": "ZL5G9S3CC7vN",
      "execution_count": 9,
      "outputs": [
        {
          "output_type": "stream",
          "name": "stdout",
          "text": [
            "d\n",
            "b\n",
            "c\n",
            "a\n"
          ]
        }
      ]
    },
    {
      "cell_type": "markdown",
      "id": "f39e6aee",
      "metadata": {
        "id": "f39e6aee"
      },
      "source": [
        "## Tuples"
      ]
    },
    {
      "cell_type": "code",
      "execution_count": 10,
      "id": "2841cbc2",
      "metadata": {
        "id": "2841cbc2",
        "outputId": "0ec82593-1690-40e2-deb0-eb8924ab019a",
        "colab": {
          "base_uri": "https://localhost:8080/"
        }
      },
      "outputs": [
        {
          "output_type": "execute_result",
          "data": {
            "text/plain": [
              "('a', 'b', 'c')"
            ]
          },
          "metadata": {},
          "execution_count": 10
        }
      ],
      "source": [
        "myTuple = ('a','b','c')\n",
        "myTuple"
      ]
    },
    {
      "cell_type": "code",
      "source": [
        "myTuple"
      ],
      "metadata": {
        "id": "Z0nGtYK7Dui5"
      },
      "id": "Z0nGtYK7Dui5",
      "execution_count": null,
      "outputs": []
    },
    {
      "cell_type": "code",
      "source": [
        "def returnsMultipleValues():\n",
        "  return 1,2,3\n",
        "type(returnsMultipleValues())"
      ],
      "metadata": {
        "id": "1uGPkvw5EC6x",
        "outputId": "55f3d6c1-04d4-4dfa-b70c-0c560b157ff1",
        "colab": {
          "base_uri": "https://localhost:8080/"
        }
      },
      "id": "1uGPkvw5EC6x",
      "execution_count": 11,
      "outputs": [
        {
          "output_type": "execute_result",
          "data": {
            "text/plain": [
              "tuple"
            ]
          },
          "metadata": {},
          "execution_count": 11
        }
      ]
    },
    {
      "cell_type": "code",
      "source": [
        "a, b, c, = returnsMultipleValues()"
      ],
      "metadata": {
        "id": "yiA-HYZcE2qB"
      },
      "id": "yiA-HYZcE2qB",
      "execution_count": 13,
      "outputs": []
    },
    {
      "cell_type": "code",
      "source": [
        "print(a)\n",
        "print(b)\n",
        "print(c)"
      ],
      "metadata": {
        "id": "GI4A3Db2FAtX",
        "outputId": "d2434144-cf64-4576-8b90-6c6090b314c0",
        "colab": {
          "base_uri": "https://localhost:8080/"
        }
      },
      "id": "GI4A3Db2FAtX",
      "execution_count": 14,
      "outputs": [
        {
          "output_type": "stream",
          "name": "stdout",
          "text": [
            "1\n",
            "2\n",
            "3\n"
          ]
        }
      ]
    },
    {
      "cell_type": "code",
      "source": [],
      "metadata": {
        "id": "-23pKX0zE9Jf"
      },
      "id": "-23pKX0zE9Jf",
      "execution_count": null,
      "outputs": []
    }
  ],
  "metadata": {
    "kernelspec": {
      "display_name": "Python 3 (ipykernel)",
      "language": "python",
      "name": "python3"
    },
    "language_info": {
      "codemirror_mode": {
        "name": "ipython",
        "version": 3
      },
      "file_extension": ".py",
      "mimetype": "text/x-python",
      "name": "python",
      "nbconvert_exporter": "python",
      "pygments_lexer": "ipython3",
      "version": "3.10.2"
    },
    "colab": {
      "provenance": []
    }
  },
  "nbformat": 4,
  "nbformat_minor": 5
}
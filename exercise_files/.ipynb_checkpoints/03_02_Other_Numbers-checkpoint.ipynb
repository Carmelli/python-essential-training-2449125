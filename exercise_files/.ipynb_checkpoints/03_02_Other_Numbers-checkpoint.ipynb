{
  "cells": [
    {
      "cell_type": "code",
      "execution_count": 19,
      "id": "fe22704f",
      "metadata": {
        "id": "fe22704f"
      },
      "outputs": [],
      "source": [
        "from decimal import Decimal, getcontext"
      ]
    },
    {
      "cell_type": "markdown",
      "id": "db1f0a8f",
      "metadata": {
        "id": "db1f0a8f"
      },
      "source": [
        "## Integers"
      ]
    },
    {
      "cell_type": "code",
      "execution_count": null,
      "id": "cd9f4ef4",
      "metadata": {
        "id": "cd9f4ef4"
      },
      "outputs": [],
      "source": []
    },
    {
      "cell_type": "markdown",
      "id": "c2930a6e",
      "metadata": {
        "id": "c2930a6e"
      },
      "source": [
        "## Decimals"
      ]
    },
    {
      "cell_type": "code",
      "execution_count": 20,
      "id": "a08341aa",
      "metadata": {
        "id": "a08341aa",
        "outputId": "c338b4cb-1a06-4581-97dc-1611f94712d9",
        "colab": {
          "base_uri": "https://localhost:8080/"
        }
      },
      "outputs": [
        {
          "output_type": "execute_result",
          "data": {
            "text/plain": [
              "Context(prec=28, rounding=ROUND_HALF_EVEN, Emin=-999999, Emax=999999, capitals=1, clamp=0, flags=[], traps=[InvalidOperation, DivisionByZero, Overflow])"
            ]
          },
          "metadata": {},
          "execution_count": 20
        }
      ],
      "source": [
        "getcontext()"
      ]
    },
    {
      "cell_type": "code",
      "source": [
        "getcontext().prec=2"
      ],
      "metadata": {
        "id": "PmuZlXrAb-mL"
      },
      "id": "PmuZlXrAb-mL",
      "execution_count": 24,
      "outputs": []
    },
    {
      "cell_type": "code",
      "source": [
        "getcontext()"
      ],
      "metadata": {
        "id": "Olb8ZuUzcCEb",
        "outputId": "c86a63ad-ef39-40ee-8790-d7279223108f",
        "colab": {
          "base_uri": "https://localhost:8080/"
        }
      },
      "id": "Olb8ZuUzcCEb",
      "execution_count": 22,
      "outputs": [
        {
          "output_type": "execute_result",
          "data": {
            "text/plain": [
              "Context(prec=28, rounding=ROUND_HALF_EVEN, Emin=-999999, Emax=999999, capitals=1, clamp=0, flags=[], traps=[InvalidOperation, DivisionByZero, Overflow])"
            ]
          },
          "metadata": {},
          "execution_count": 22
        }
      ]
    },
    {
      "cell_type": "code",
      "source": [
        "Decimal(1)/Decimal(3)"
      ],
      "metadata": {
        "id": "GZiBMZRZcXRe",
        "outputId": "53ff1e16-2784-4253-c0c7-aefd26b49148",
        "colab": {
          "base_uri": "https://localhost:8080/"
        }
      },
      "id": "GZiBMZRZcXRe",
      "execution_count": 25,
      "outputs": [
        {
          "output_type": "execute_result",
          "data": {
            "text/plain": [
              "Decimal('0.3333333333333333333333333333')"
            ]
          },
          "metadata": {},
          "execution_count": 25
        }
      ]
    },
    {
      "cell_type": "code",
      "source": [
        "round(1.2-1.0,3)"
      ],
      "metadata": {
        "id": "KNHH3lv6cjPp",
        "outputId": "671f4877-5bd8-4970-bea2-d1b4b368a29a",
        "colab": {
          "base_uri": "https://localhost:8080/"
        }
      },
      "id": "KNHH3lv6cjPp",
      "execution_count": 29,
      "outputs": [
        {
          "output_type": "execute_result",
          "data": {
            "text/plain": [
              "0.2"
            ]
          },
          "metadata": {},
          "execution_count": 29
        }
      ]
    }
  ],
  "metadata": {
    "kernelspec": {
      "display_name": "Python 3 (ipykernel)",
      "language": "python",
      "name": "python3"
    },
    "language_info": {
      "codemirror_mode": {
        "name": "ipython",
        "version": 3
      },
      "file_extension": ".py",
      "mimetype": "text/x-python",
      "name": "python",
      "nbconvert_exporter": "python",
      "pygments_lexer": "ipython3",
      "version": "3.10.2"
    },
    "colab": {
      "provenance": []
    }
  },
  "nbformat": 4,
  "nbformat_minor": 5
}
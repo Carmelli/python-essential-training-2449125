{
  "cells": [
    {
      "cell_type": "code",
      "execution_count": 8,
      "id": "91c52d9a",
      "metadata": {
        "id": "91c52d9a"
      },
      "outputs": [],
      "source": [
        "import time"
      ]
    },
    {
      "cell_type": "markdown",
      "id": "c7033b12",
      "metadata": {
        "id": "c7033b12"
      },
      "source": [
        "## Handling Exceptions"
      ]
    },
    {
      "cell_type": "markdown",
      "id": "8a312fe4",
      "metadata": {
        "id": "8a312fe4"
      },
      "source": [
        "### Try / Except"
      ]
    },
    {
      "cell_type": "code",
      "execution_count": 9,
      "id": "20b83b44",
      "metadata": {
        "id": "20b83b44",
        "outputId": "da66e0e9-4b87-4627-a52c-d88b63f540a7",
        "colab": {
          "base_uri": "https://localhost:8080/"
        }
      },
      "outputs": [
        {
          "output_type": "execute_result",
          "data": {
            "text/plain": [
              "ZeroDivisionError('division by zero')"
            ]
          },
          "metadata": {},
          "execution_count": 9
        }
      ],
      "source": [
        "def causeError():\n",
        "  try:\n",
        "    return 1/0\n",
        "  except Exception as e:\n",
        "    return e\n",
        "  \n",
        "causeError()"
      ]
    },
    {
      "cell_type": "code",
      "execution_count": 5,
      "id": "df66e89a",
      "metadata": {
        "id": "df66e89a",
        "outputId": "85340018-9538-4ebb-baa9-fbf38211fc3f",
        "colab": {
          "base_uri": "https://localhost:8080/"
        }
      },
      "outputs": [
        {
          "output_type": "stream",
          "name": "stdout",
          "text": [
            "There was some sort of error!\n"
          ]
        }
      ],
      "source": [
        "def causeError():\n",
        "  try:\n",
        "    return 1/0\n",
        "  except Exception:\n",
        "    print('There was some sort of error!')\n",
        "  \n",
        "causeError()"
      ]
    },
    {
      "cell_type": "markdown",
      "id": "14e56369",
      "metadata": {
        "id": "14e56369"
      },
      "source": [
        "### Finally"
      ]
    },
    {
      "cell_type": "code",
      "execution_count": 7,
      "id": "31791e33",
      "metadata": {
        "id": "31791e33",
        "outputId": "e9c9545b-2daa-4c43-acb2-85efede3946f",
        "colab": {
          "base_uri": "https://localhost:8080/"
        }
      },
      "outputs": [
        {
          "output_type": "stream",
          "name": "stdout",
          "text": [
            "This will always execute!\n"
          ]
        },
        {
          "output_type": "execute_result",
          "data": {
            "text/plain": [
              "1.0"
            ]
          },
          "metadata": {},
          "execution_count": 7
        }
      ],
      "source": [
        "def causeError():\n",
        "  try:\n",
        "    return 1/1\n",
        "  except Exception:\n",
        "    print('There was some sort of error!')\n",
        "  finally:\n",
        "    print('This will always execute!')\n",
        "  \n",
        "causeError()"
      ]
    },
    {
      "cell_type": "code",
      "execution_count": 13,
      "id": "865a6a76",
      "metadata": {
        "id": "865a6a76",
        "outputId": "61c103ff-c8f1-43d6-e2a9-92391b87a63b",
        "colab": {
          "base_uri": "https://localhost:8080/"
        }
      },
      "outputs": [
        {
          "output_type": "stream",
          "name": "stdout",
          "text": [
            "There was some sort of error!\n",
            "Function took 0.5024187564849854 second to execute\n"
          ]
        }
      ],
      "source": [
        "def causeError():\n",
        "  start = time.time()\n",
        "  try:\n",
        "    time.sleep(0.5)\n",
        "    return 1/0\n",
        "  except Exception:\n",
        "    print('There was some sort of error!')\n",
        "  finally:\n",
        "    print(f'Function took {time.time() - start} second to execute')\n",
        "  \n",
        "causeError()"
      ]
    },
    {
      "cell_type": "markdown",
      "id": "1debbbd8",
      "metadata": {
        "id": "1debbbd8"
      },
      "source": [
        "### Catching Exceptions by Type"
      ]
    },
    {
      "cell_type": "code",
      "execution_count": 16,
      "id": "04b0686c",
      "metadata": {
        "id": "04b0686c",
        "outputId": "fcad7ae3-4c66-430c-9a42-a5da70a614ce",
        "colab": {
          "base_uri": "https://localhost:8080/"
        }
      },
      "outputs": [
        {
          "output_type": "stream",
          "name": "stdout",
          "text": [
            "There was a type error!\n"
          ]
        }
      ],
      "source": [
        "def causeError():\n",
        "  try:\n",
        "    return 1 + 'a'\n",
        "  except TypeError:\n",
        "    print('There was a type error!')\n",
        "  except ZeroDivisionError:\n",
        "    print('There was a zero division error!')\n",
        "  except Exception:\n",
        "    print('There was some sort of error!')\n",
        "  \n",
        "causeError()"
      ]
    },
    {
      "cell_type": "markdown",
      "id": "bdd13638",
      "metadata": {
        "id": "bdd13638"
      },
      "source": [
        "### Custom Decorators"
      ]
    },
    {
      "cell_type": "code",
      "execution_count": 19,
      "id": "339fce9c",
      "metadata": {
        "id": "339fce9c",
        "outputId": "67ce3d15-96d0-4d0a-e46b-e1eb0e7d48b8",
        "colab": {
          "base_uri": "https://localhost:8080/"
        }
      },
      "outputs": [
        {
          "output_type": "stream",
          "name": "stdout",
          "text": [
            "There was a zero division error!\n"
          ]
        }
      ],
      "source": [
        "def handleException(func):\n",
        "  def wrapper(*args):\n",
        "    try:\n",
        "      func(*args)\n",
        "    except TypeError:\n",
        "      print('There was a type error!')\n",
        "    except ZeroDivisionError:\n",
        "      print('There was a zero division error!')\n",
        "    except Exception:\n",
        "      print('There was some sort of error!')\n",
        "  return wrapper\n",
        "\n",
        "@handleException\n",
        "def causeError():\n",
        "  return 1/0\n",
        "\n",
        "causeError()"
      ]
    },
    {
      "cell_type": "markdown",
      "id": "017a9545",
      "metadata": {
        "id": "017a9545"
      },
      "source": [
        "### Raising Exceptions"
      ]
    },
    {
      "cell_type": "code",
      "execution_count": 24,
      "id": "54a8798c",
      "metadata": {
        "id": "54a8798c",
        "outputId": "242789ee-acdc-4b6c-8192-6763eb852df3",
        "colab": {
          "base_uri": "https://localhost:8080/"
        }
      },
      "outputs": [
        {
          "output_type": "stream",
          "name": "stdout",
          "text": [
            "There was some sort of error!\n"
          ]
        }
      ],
      "source": [
        "@handleException\n",
        "def raiseError(n):\n",
        "  if n ==0:\n",
        "   raise Exception()\n",
        "  print(n)\n",
        "raiseError(0)"
      ]
    },
    {
      "cell_type": "code",
      "execution_count": null,
      "id": "42d42d9f",
      "metadata": {
        "id": "42d42d9f"
      },
      "outputs": [],
      "source": []
    }
  ],
  "metadata": {
    "kernelspec": {
      "display_name": "Python 3 (ipykernel)",
      "language": "python",
      "name": "python3"
    },
    "language_info": {
      "codemirror_mode": {
        "name": "ipython",
        "version": 3
      },
      "file_extension": ".py",
      "mimetype": "text/x-python",
      "name": "python",
      "nbconvert_exporter": "python",
      "pygments_lexer": "ipython3",
      "version": "3.10.2"
    },
    "colab": {
      "provenance": []
    }
  },
  "nbformat": 4,
  "nbformat_minor": 5
}
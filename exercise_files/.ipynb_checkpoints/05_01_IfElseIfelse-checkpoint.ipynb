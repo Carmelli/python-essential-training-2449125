{
  "cells": [
    {
      "cell_type": "markdown",
      "id": "eb3572f3",
      "metadata": {
        "id": "eb3572f3"
      },
      "source": [
        "## If statements with \"FizzBuzz\""
      ]
    },
    {
      "cell_type": "code",
      "execution_count": 3,
      "id": "9816da2b",
      "metadata": {
        "id": "9816da2b",
        "outputId": "a6d2dd2b-4203-4d5b-b6b6-7df6d043754b",
        "colab": {
          "base_uri": "https://localhost:8080/"
        }
      },
      "outputs": [
        {
          "output_type": "stream",
          "name": "stdout",
          "text": [
            "n\n",
            "n\n",
            "Fizz\n",
            "n\n",
            "Buzz\n",
            "Fizz\n",
            "n\n",
            "n\n",
            "Fizz\n",
            "Buzz\n",
            "n\n",
            "Fizz\n",
            "n\n",
            "n\n",
            "FizzBuzz\n",
            "n\n",
            "n\n",
            "Fizz\n",
            "n\n",
            "Buzz\n",
            "Fizz\n",
            "n\n",
            "n\n",
            "Fizz\n",
            "Buzz\n",
            "n\n",
            "Fizz\n",
            "n\n",
            "n\n",
            "FizzBuzz\n",
            "n\n",
            "n\n",
            "Fizz\n",
            "n\n",
            "Buzz\n",
            "Fizz\n",
            "n\n",
            "n\n",
            "Fizz\n",
            "Buzz\n",
            "n\n",
            "Fizz\n",
            "n\n",
            "n\n",
            "FizzBuzz\n",
            "n\n",
            "n\n",
            "Fizz\n",
            "n\n",
            "Buzz\n",
            "Fizz\n",
            "n\n",
            "n\n",
            "Fizz\n",
            "Buzz\n",
            "n\n",
            "Fizz\n",
            "n\n",
            "n\n",
            "FizzBuzz\n",
            "n\n",
            "n\n",
            "Fizz\n",
            "n\n",
            "Buzz\n",
            "Fizz\n",
            "n\n",
            "n\n",
            "Fizz\n",
            "Buzz\n",
            "n\n",
            "Fizz\n",
            "n\n",
            "n\n",
            "FizzBuzz\n",
            "n\n",
            "n\n",
            "Fizz\n",
            "n\n",
            "Buzz\n",
            "Fizz\n",
            "n\n",
            "n\n",
            "Fizz\n",
            "Buzz\n",
            "n\n",
            "Fizz\n",
            "n\n",
            "n\n",
            "FizzBuzz\n",
            "n\n",
            "n\n",
            "Fizz\n",
            "n\n",
            "Buzz\n",
            "Fizz\n",
            "n\n",
            "n\n",
            "Fizz\n",
            "Buzz\n"
          ]
        }
      ],
      "source": [
        "# 1, 2, Fizz, 4, Buzz, Fizz, 7, 8, Fizz, 9, Buzz, 11, Fizz, 13 14, FizzBuzz\n",
        "for n in range(1,101):\n",
        "  if n % 15 == 0: # remainder is zero as in perfectly divisible, ex: 45/15 = 5, a whole number\n",
        "    print('FizzBuzz')\n",
        "  else:\n",
        "      if n % 3 == 0:\n",
        "        print('Fizz')\n",
        "      else:\n",
        "          if n % 5 == 0:\n",
        "            print('Buzz')\n",
        "          else:\n",
        "              print('n')\n",
        "\n"
      ]
    },
    {
      "cell_type": "markdown",
      "id": "e935bb69",
      "metadata": {
        "id": "e935bb69"
      },
      "source": [
        "### Else statements"
      ]
    },
    {
      "cell_type": "code",
      "execution_count": null,
      "id": "f6d0a515",
      "metadata": {
        "id": "f6d0a515"
      },
      "outputs": [],
      "source": []
    },
    {
      "cell_type": "code",
      "source": [],
      "metadata": {
        "id": "D3tjJjeE_5Gs"
      },
      "id": "D3tjJjeE_5Gs",
      "execution_count": null,
      "outputs": []
    },
    {
      "cell_type": "markdown",
      "id": "b196aa6c",
      "metadata": {
        "id": "b196aa6c"
      },
      "source": [
        "### Elif statements"
      ]
    },
    {
      "cell_type": "code",
      "execution_count": 4,
      "id": "39fa2269",
      "metadata": {
        "id": "39fa2269",
        "outputId": "594a98f1-8dd7-4f71-c77f-e67d56e8029f",
        "colab": {
          "base_uri": "https://localhost:8080/"
        }
      },
      "outputs": [
        {
          "output_type": "stream",
          "name": "stdout",
          "text": [
            "n\n",
            "n\n",
            "Fizz\n",
            "n\n",
            "Buzz\n",
            "Fizz\n",
            "n\n",
            "n\n",
            "Fizz\n",
            "Buzz\n",
            "n\n",
            "Fizz\n",
            "n\n",
            "n\n",
            "FizzBuzz\n",
            "n\n",
            "n\n",
            "Fizz\n",
            "n\n",
            "Buzz\n",
            "Fizz\n",
            "n\n",
            "n\n",
            "Fizz\n",
            "Buzz\n",
            "n\n",
            "Fizz\n",
            "n\n",
            "n\n",
            "FizzBuzz\n",
            "n\n",
            "n\n",
            "Fizz\n",
            "n\n",
            "Buzz\n",
            "Fizz\n",
            "n\n",
            "n\n",
            "Fizz\n",
            "Buzz\n",
            "n\n",
            "Fizz\n",
            "n\n",
            "n\n",
            "FizzBuzz\n",
            "n\n",
            "n\n",
            "Fizz\n",
            "n\n",
            "Buzz\n",
            "Fizz\n",
            "n\n",
            "n\n",
            "Fizz\n",
            "Buzz\n",
            "n\n",
            "Fizz\n",
            "n\n",
            "n\n",
            "FizzBuzz\n",
            "n\n",
            "n\n",
            "Fizz\n",
            "n\n",
            "Buzz\n",
            "Fizz\n",
            "n\n",
            "n\n",
            "Fizz\n",
            "Buzz\n",
            "n\n",
            "Fizz\n",
            "n\n",
            "n\n",
            "FizzBuzz\n",
            "n\n",
            "n\n",
            "Fizz\n",
            "n\n",
            "Buzz\n",
            "Fizz\n",
            "n\n",
            "n\n",
            "Fizz\n",
            "Buzz\n",
            "n\n",
            "Fizz\n",
            "n\n",
            "n\n",
            "FizzBuzz\n",
            "n\n",
            "n\n",
            "Fizz\n",
            "n\n",
            "Buzz\n",
            "Fizz\n",
            "n\n",
            "n\n",
            "Fizz\n",
            "Buzz\n"
          ]
        }
      ],
      "source": [
        "# 1, 2, Fizz, 4, Buzz, Fizz, 7, 8, Fizz, 9, Buzz, 11, Fizz, 13 14, FizzBuzz\n",
        "for n in range(1,101):\n",
        "  if n % 15 == 0: # remainder is zero as in perfectly divisible, ex: 45/15 = 5, a whole number\n",
        "    print('FizzBuzz')\n",
        "  elif n % 3 == 0:\n",
        "        print('Fizz')\n",
        "  elif n % 5 == 0:\n",
        "            print('Buzz')\n",
        "  else:\n",
        "              print('n')"
      ]
    },
    {
      "cell_type": "markdown",
      "id": "bfb49426",
      "metadata": {
        "id": "bfb49426"
      },
      "source": [
        "### Single Line if statements"
      ]
    },
    {
      "cell_type": "code",
      "execution_count": 5,
      "id": "c5c4b674",
      "metadata": {
        "id": "c5c4b674",
        "outputId": "85ab5c65-166d-4f5b-cae7-7717e9e62c5a",
        "colab": {
          "base_uri": "https://localhost:8080/"
        }
      },
      "outputs": [
        {
          "output_type": "stream",
          "name": "stdout",
          "text": [
            "Fizz\n"
          ]
        }
      ],
      "source": [
        "n = 3\n",
        "print('Fizz' if n % 3 == 0 else n )"
      ]
    },
    {
      "cell_type": "code",
      "source": [
        "fizzbuzz = 'Fizz' if n % 3 == 0 else n"
      ],
      "metadata": {
        "id": "aGgYeAe4ALsa"
      },
      "id": "aGgYeAe4ALsa",
      "execution_count": null,
      "outputs": []
    },
    {
      "cell_type": "code",
      "source": [
        "'Fizz' if n % 3 == 0 else 'Buzz' if n % 5 == 0 else n"
      ],
      "metadata": {
        "id": "4wBnW5mCAwR2"
      },
      "id": "4wBnW5mCAwR2",
      "execution_count": null,
      "outputs": []
    },
    {
      "cell_type": "code",
      "source": [
        "'FizzBuzz' if n % 15 == 0 else 'Fizz' if n % 3 == 0 else 'Buzz' if n % 5 == 0 else n"
      ],
      "metadata": {
        "colab": {
          "base_uri": "https://localhost:8080/",
          "height": 36
        },
        "id": "yj1i3FpWA4u5",
        "outputId": "0bacc69e-ba59-444d-e38c-238f259d0354"
      },
      "id": "yj1i3FpWA4u5",
      "execution_count": 9,
      "outputs": [
        {
          "output_type": "execute_result",
          "data": {
            "text/plain": [
              "'Fizz'"
            ],
            "application/vnd.google.colaboratory.intrinsic+json": {
              "type": "string"
            }
          },
          "metadata": {},
          "execution_count": 9
        }
      ]
    },
    {
      "cell_type": "code",
      "source": [],
      "metadata": {
        "id": "O3d6ewwnBWeU"
      },
      "id": "O3d6ewwnBWeU",
      "execution_count": null,
      "outputs": []
    },
    {
      "cell_type": "code",
      "source": [
        "['FizzBuzz' if n % 15 == 0 else 'Fizz' if n % 3 == 0 else 'Buzz' if n % 5 == 0 else n for n in range(1,101)]"
      ],
      "metadata": {
        "outputId": "37e34d09-ecce-4e61-8167-72c4faf2d7e3",
        "colab": {
          "base_uri": "https://localhost:8080/"
        },
        "id": "XgnxL9gOBWpu"
      },
      "execution_count": 10,
      "outputs": [
        {
          "output_type": "execute_result",
          "data": {
            "text/plain": [
              "[1,\n",
              " 2,\n",
              " 'Fizz',\n",
              " 4,\n",
              " 'Buzz',\n",
              " 'Fizz',\n",
              " 7,\n",
              " 8,\n",
              " 'Fizz',\n",
              " 'Buzz',\n",
              " 11,\n",
              " 'Fizz',\n",
              " 13,\n",
              " 14,\n",
              " 'FizzBuzz',\n",
              " 16,\n",
              " 17,\n",
              " 'Fizz',\n",
              " 19,\n",
              " 'Buzz',\n",
              " 'Fizz',\n",
              " 22,\n",
              " 23,\n",
              " 'Fizz',\n",
              " 'Buzz',\n",
              " 26,\n",
              " 'Fizz',\n",
              " 28,\n",
              " 29,\n",
              " 'FizzBuzz',\n",
              " 31,\n",
              " 32,\n",
              " 'Fizz',\n",
              " 34,\n",
              " 'Buzz',\n",
              " 'Fizz',\n",
              " 37,\n",
              " 38,\n",
              " 'Fizz',\n",
              " 'Buzz',\n",
              " 41,\n",
              " 'Fizz',\n",
              " 43,\n",
              " 44,\n",
              " 'FizzBuzz',\n",
              " 46,\n",
              " 47,\n",
              " 'Fizz',\n",
              " 49,\n",
              " 'Buzz',\n",
              " 'Fizz',\n",
              " 52,\n",
              " 53,\n",
              " 'Fizz',\n",
              " 'Buzz',\n",
              " 56,\n",
              " 'Fizz',\n",
              " 58,\n",
              " 59,\n",
              " 'FizzBuzz',\n",
              " 61,\n",
              " 62,\n",
              " 'Fizz',\n",
              " 64,\n",
              " 'Buzz',\n",
              " 'Fizz',\n",
              " 67,\n",
              " 68,\n",
              " 'Fizz',\n",
              " 'Buzz',\n",
              " 71,\n",
              " 'Fizz',\n",
              " 73,\n",
              " 74,\n",
              " 'FizzBuzz',\n",
              " 76,\n",
              " 77,\n",
              " 'Fizz',\n",
              " 79,\n",
              " 'Buzz',\n",
              " 'Fizz',\n",
              " 82,\n",
              " 83,\n",
              " 'Fizz',\n",
              " 'Buzz',\n",
              " 86,\n",
              " 'Fizz',\n",
              " 88,\n",
              " 89,\n",
              " 'FizzBuzz',\n",
              " 91,\n",
              " 92,\n",
              " 'Fizz',\n",
              " 94,\n",
              " 'Buzz',\n",
              " 'Fizz',\n",
              " 97,\n",
              " 98,\n",
              " 'Fizz',\n",
              " 'Buzz']"
            ]
          },
          "metadata": {},
          "execution_count": 10
        }
      ],
      "id": "XgnxL9gOBWpu"
    }
  ],
  "metadata": {
    "kernelspec": {
      "display_name": "Python 3 (ipykernel)",
      "language": "python",
      "name": "python3"
    },
    "language_info": {
      "codemirror_mode": {
        "name": "ipython",
        "version": 3
      },
      "file_extension": ".py",
      "mimetype": "text/x-python",
      "name": "python",
      "nbconvert_exporter": "python",
      "pygments_lexer": "ipython3",
      "version": "3.10.2"
    },
    "colab": {
      "provenance": []
    }
  },
  "nbformat": 4,
  "nbformat_minor": 5
}
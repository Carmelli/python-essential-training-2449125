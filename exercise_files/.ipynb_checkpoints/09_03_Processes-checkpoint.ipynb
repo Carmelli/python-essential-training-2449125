{
  "cells": [
    {
      "cell_type": "code",
      "execution_count": 11,
      "id": "efb27ade",
      "metadata": {
        "id": "efb27ade",
        "outputId": "15bb50d6-4c8e-4bb8-a1b8-43601216d3b0",
        "colab": {
          "base_uri": "https://localhost:8080/"
        }
      },
      "outputs": [
        {
          "output_type": "stream",
          "name": "stdout",
          "text": [
            "Looking in indexes: https://pypi.org/simple, https://us-python.pkg.dev/colab-wheels/public/simple/\n",
            "Requirement already satisfied: multiprocess in /usr/local/lib/python3.8/dist-packages (0.70.14)\n",
            "Requirement already satisfied: dill>=0.3.6 in /usr/local/lib/python3.8/dist-packages (from multiprocess) (0.3.6)\n"
          ]
        }
      ],
      "source": [
        "!pip install multiprocess\n",
        "from multiprocess import Process\n",
        "import time\n",
        "import threading"
      ]
    },
    {
      "cell_type": "markdown",
      "id": "8935e418",
      "metadata": {
        "id": "8935e418"
      },
      "source": [
        "## Processes"
      ]
    },
    {
      "cell_type": "code",
      "execution_count": 10,
      "id": "64198686",
      "metadata": {
        "id": "64198686",
        "outputId": "814e2e7b-c765-42a4-9a7d-f7b574073cf3",
        "colab": {
          "base_uri": "https://localhost:8080/"
        }
      },
      "outputs": [
        {
          "output_type": "stream",
          "name": "stdout",
          "text": [
            "1\n",
            "1\n",
            "1Finished computing!Finished computing!1\n",
            "\n",
            "\n",
            "Finished computing!Finished computing!\n",
            "\n",
            "11\n",
            "\n",
            "1\n",
            "\n",
            "Finished computing!11Finished computing!Finished computing!\n",
            "\n",
            "\n",
            "\n",
            "\n",
            "Finished computing!Finished computing!1\n",
            "\n",
            "\n",
            "Finished computing!\n",
            "{}\n"
          ]
        }
      ],
      "source": [
        "def longSquare(num,results):\n",
        "  time.sleep(1)\n",
        "  print(num**2)\n",
        "  print('Finished computing!')\n",
        "\n",
        "results = {}\n",
        "processes = [Process(target=longSquare, args=(1,results)) for n in range(0,10)]\n",
        "[p.start() for p in processes]\n",
        "[p.join() for p in processes]\n",
        "\n",
        "\n",
        "print(results)\n"
      ]
    },
    {
      "cell_type": "code",
      "execution_count": 13,
      "id": "61d5c310",
      "metadata": {
        "id": "61d5c310",
        "outputId": "7294ae9f-e224-42bf-96ff-bd023f04a710",
        "colab": {
          "base_uri": "https://localhost:8080/"
        }
      },
      "outputs": [
        {
          "output_type": "stream",
          "name": "stdout",
          "text": [
            "11\n",
            "1\n",
            "Finished computing!\n",
            "1\n",
            "Finished computing!\n",
            "\n",
            "Finished computing!1\n",
            "Finished computing!\n",
            "1\n",
            "Finished computing!\n",
            "\n",
            "1\n",
            "Finished computing!\n",
            "1\n",
            "Finished computing!\n",
            "1\n",
            "Finished computing!1\n",
            "Finished computing!\n",
            "\n",
            "Finished computing!\n",
            "{}\n"
          ]
        }
      ],
      "source": [
        "results = {}\n",
        "threads = [threading.Thread(target=longSquare, args=(1,results)) for n in range(0,10)]\n",
        "[t.start() for t in threads]\n",
        "[t.join() for t in threads]\n",
        "\n",
        "\n",
        "print(results)"
      ]
    },
    {
      "cell_type": "code",
      "execution_count": null,
      "id": "59125cc7",
      "metadata": {
        "id": "59125cc7"
      },
      "outputs": [],
      "source": []
    },
    {
      "cell_type": "code",
      "execution_count": null,
      "id": "241a1b54",
      "metadata": {
        "id": "241a1b54"
      },
      "outputs": [],
      "source": []
    }
  ],
  "metadata": {
    "kernelspec": {
      "display_name": "Python 3 (ipykernel)",
      "language": "python",
      "name": "python3"
    },
    "language_info": {
      "codemirror_mode": {
        "name": "ipython",
        "version": 3
      },
      "file_extension": ".py",
      "mimetype": "text/x-python",
      "name": "python",
      "nbconvert_exporter": "python",
      "pygments_lexer": "ipython3",
      "version": "3.10.2"
    },
    "colab": {
      "provenance": []
    }
  },
  "nbformat": 4,
  "nbformat_minor": 5
}
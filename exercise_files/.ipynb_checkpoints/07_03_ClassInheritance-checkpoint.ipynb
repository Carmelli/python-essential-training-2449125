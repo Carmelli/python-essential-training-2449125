{
  "cells": [
    {
      "cell_type": "markdown",
      "id": "3ca28428",
      "metadata": {
        "id": "3ca28428"
      },
      "source": [
        "## Class Inheritance"
      ]
    },
    {
      "cell_type": "code",
      "execution_count": 8,
      "id": "06ce42b1",
      "metadata": {
        "id": "06ce42b1"
      },
      "outputs": [],
      "source": [
        "class Dog:\n",
        "  _legs = 4\n",
        "  def __init__(self,name):\n",
        "    self.name = name\n",
        "  \n",
        "  def speak(self):\n",
        "    print(self.name + ' says: Bark!')\n",
        "\n",
        "  def getLegs(self):\n",
        "    return self._legs\n",
        "\n",
        "class Chihuahua(Dog):\n",
        "  def speak(self):\n",
        "    print(f'{self.name} says Yap Yap Yap!')\n",
        "  \n",
        "  def wagTail(self):\n",
        "    print('Vigorous wagging!')\n"
      ]
    },
    {
      "cell_type": "code",
      "execution_count": 10,
      "id": "dd5dd985",
      "metadata": {
        "id": "dd5dd985",
        "outputId": "fb533c62-af5b-45c1-c0dd-1fd471209d8e",
        "colab": {
          "base_uri": "https://localhost:8080/"
        }
      },
      "outputs": [
        {
          "output_type": "stream",
          "name": "stdout",
          "text": [
            "Roxy says Yap Yap Yap!\n",
            "Vigorous wagging!\n"
          ]
        }
      ],
      "source": [
        "dog = Chihuahua('Roxy')\n",
        "dog.speak()\n",
        "dog.wagTail()"
      ]
    },
    {
      "cell_type": "code",
      "execution_count": 7,
      "id": "9f367505",
      "metadata": {
        "id": "9f367505",
        "outputId": "6dbd0ddb-49f1-4fab-f867-b297456b0699",
        "colab": {
          "base_uri": "https://localhost:8080/"
        }
      },
      "outputs": [
        {
          "output_type": "stream",
          "name": "stdout",
          "text": [
            "Rover says: Bark!\n"
          ]
        }
      ],
      "source": [
        "myDog = Dog('Rover')\n",
        "myDog.speak()"
      ]
    },
    {
      "cell_type": "markdown",
      "id": "fb776450",
      "metadata": {
        "id": "fb776450"
      },
      "source": [
        "### Extending built-in classes"
      ]
    },
    {
      "cell_type": "code",
      "execution_count": 11,
      "id": "352c540a",
      "metadata": {
        "id": "352c540a"
      },
      "outputs": [],
      "source": [
        "myList = list()"
      ]
    },
    {
      "cell_type": "code",
      "execution_count": 12,
      "id": "fcf877f7",
      "metadata": {
        "id": "fcf877f7",
        "outputId": "875c3a3a-c2ec-43ec-e15e-919b735a6e55",
        "colab": {
          "base_uri": "https://localhost:8080/"
        }
      },
      "outputs": [
        {
          "output_type": "stream",
          "name": "stdout",
          "text": [
            "[1, 2]\n"
          ]
        }
      ],
      "source": [
        "class UniqueList(list):\n",
        "  def append(self,item):\n",
        "    if item in self:\n",
        "      return\n",
        "    super().append(item)\n",
        "  \n",
        "uniqueList = UniqueList()\n",
        "uniqueList.append(1)\n",
        "uniqueList.append(1)\n",
        "uniqueList.append(2)\n",
        "\n",
        "print(uniqueList)"
      ]
    },
    {
      "cell_type": "code",
      "execution_count": 13,
      "id": "e6ec6f25",
      "metadata": {
        "id": "e6ec6f25",
        "outputId": "5b01e8c9-6ac2-44ef-b5da-76b5ca6988b9",
        "colab": {
          "base_uri": "https://localhost:8080/"
        }
      },
      "outputs": [
        {
          "output_type": "stream",
          "name": "stdout",
          "text": [
            "Unique List\n"
          ]
        }
      ],
      "source": [
        "class UniqueList(list):\n",
        "\n",
        "  def __init__(self):\n",
        "    super().__init__()\n",
        "    self.someProperty = 'Unique List'\n",
        "  \n",
        "  def append(self,item):\n",
        "    if item in self:\n",
        "      return\n",
        "    super().append(item)\n",
        "  \n",
        "uniqueList = UniqueList()\n",
        "uniqueList.append(1)\n",
        "uniqueList.append(1)\n",
        "uniqueList.append(2)\n",
        "\n",
        "print(uniqueList.someProperty)"
      ]
    },
    {
      "cell_type": "code",
      "execution_count": null,
      "id": "6ea4c632",
      "metadata": {
        "id": "6ea4c632"
      },
      "outputs": [],
      "source": []
    }
  ],
  "metadata": {
    "kernelspec": {
      "display_name": "Python 3 (ipykernel)",
      "language": "python",
      "name": "python3"
    },
    "language_info": {
      "codemirror_mode": {
        "name": "ipython",
        "version": 3
      },
      "file_extension": ".py",
      "mimetype": "text/x-python",
      "name": "python",
      "nbconvert_exporter": "python",
      "pygments_lexer": "ipython3",
      "version": "3.10.2"
    },
    "colab": {
      "provenance": []
    }
  },
  "nbformat": 4,
  "nbformat_minor": 5
}
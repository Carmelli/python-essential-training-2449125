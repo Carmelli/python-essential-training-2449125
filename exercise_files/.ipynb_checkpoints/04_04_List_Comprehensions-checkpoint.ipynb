{
  "cells": [
    {
      "cell_type": "markdown",
      "source": [
        "## List Comprehensions"
      ],
      "metadata": {
        "id": "4-8AmHDPTPfY"
      },
      "id": "4-8AmHDPTPfY"
    },
    {
      "cell_type": "code",
      "execution_count": 3,
      "id": "e5e2d532",
      "metadata": {
        "id": "e5e2d532",
        "outputId": "97dfcce6-24e2-4500-e18a-f355307fb2f4",
        "colab": {
          "base_uri": "https://localhost:8080/"
        }
      },
      "outputs": [
        {
          "output_type": "execute_result",
          "data": {
            "text/plain": [
              "[2, 4, 6, 8, 10]"
            ]
          },
          "metadata": {},
          "execution_count": 3
        }
      ],
      "source": [
        "myList = [1,2,3,4,5]\n",
        "[2*item for item in myList]"
      ]
    },
    {
      "cell_type": "markdown",
      "source": [
        "**List comprehensions with filters**"
      ],
      "metadata": {
        "id": "YSzXF_hyTXdy"
      },
      "id": "YSzXF_hyTXdy"
    },
    {
      "cell_type": "code",
      "source": [
        "myList = list(range(100))\n",
        "filteredList = [item for item in myList if item % 10 == 0]\n",
        "# print out item for item in my list if it is divisible by ten \n",
        "filteredList"
      ],
      "metadata": {
        "id": "ActijTe3TcZD",
        "outputId": "acc17a8f-be7a-40ad-ce92-6ac8b24f2546",
        "colab": {
          "base_uri": "https://localhost:8080/"
        }
      },
      "id": "ActijTe3TcZD",
      "execution_count": 6,
      "outputs": [
        {
          "output_type": "execute_result",
          "data": {
            "text/plain": [
              "[0, 10, 20, 30, 40, 50, 60, 70, 80, 90]"
            ]
          },
          "metadata": {},
          "execution_count": 6
        }
      ]
    },
    {
      "cell_type": "code",
      "source": [
        "myList = list(range(100))\n",
        "filteredList = [item for item in myList if item % 10 < 3]\n",
        "# print out item for item in my list if it is divisible by ten \n",
        "print(filteredList)"
      ],
      "metadata": {
        "id": "1KDIuZoJWNrB",
        "outputId": "b156218d-ebeb-4488-8197-9c3c0bda22b9",
        "colab": {
          "base_uri": "https://localhost:8080/"
        }
      },
      "id": "1KDIuZoJWNrB",
      "execution_count": 8,
      "outputs": [
        {
          "output_type": "stream",
          "name": "stdout",
          "text": [
            "[0, 1, 2, 10, 11, 12, 20, 21, 22, 30, 31, 32, 40, 41, 42, 50, 51, 52, 60, 61, 62, 70, 71, 72, 80, 81, 82, 90, 91, 92]\n"
          ]
        }
      ]
    },
    {
      "cell_type": "markdown",
      "source": [
        "**List comprehensions with functions**"
      ],
      "metadata": {
        "id": "rx1gJ19lTbl0"
      },
      "id": "rx1gJ19lTbl0"
    },
    {
      "cell_type": "code",
      "source": [
        "myString = 'My name is Carmelli Dao. I currently live in Waterloo'\n",
        "myString.split('.')"
      ],
      "metadata": {
        "id": "xHPfgH9HTjBG",
        "outputId": "c886ea11-32ac-4afe-ef91-00714b4dbcc6",
        "colab": {
          "base_uri": "https://localhost:8080/"
        }
      },
      "id": "xHPfgH9HTjBG",
      "execution_count": 13,
      "outputs": [
        {
          "output_type": "execute_result",
          "data": {
            "text/plain": [
              "['My name is Carmelli Dao', ' I currently live in Waterloo']"
            ]
          },
          "metadata": {},
          "execution_count": 13
        }
      ]
    },
    {
      "cell_type": "code",
      "source": [
        "myString.split()"
      ],
      "metadata": {
        "id": "VNVhOwYdXhNk",
        "outputId": "aba240de-f3c9-42ad-fd8f-7cda9a63803c",
        "colab": {
          "base_uri": "https://localhost:8080/"
        }
      },
      "id": "VNVhOwYdXhNk",
      "execution_count": 14,
      "outputs": [
        {
          "output_type": "execute_result",
          "data": {
            "text/plain": [
              "['My',\n",
              " 'name',\n",
              " 'is',\n",
              " 'Carmelli',\n",
              " 'Dao.',\n",
              " 'I',\n",
              " 'currently',\n",
              " 'live',\n",
              " 'in',\n",
              " 'Waterloo']"
            ]
          },
          "metadata": {},
          "execution_count": 14
        }
      ]
    },
    {
      "cell_type": "code",
      "source": [
        "def cleanWord(word):\n",
        "  return word.replace('.','').lower()\n",
        "[cleanWord(word) for word in myString.split()]"
      ],
      "metadata": {
        "id": "JMbRvoNcXlqc",
        "outputId": "eea666bf-2b1b-4b6e-a5bf-fa9f200d3327",
        "colab": {
          "base_uri": "https://localhost:8080/"
        }
      },
      "id": "JMbRvoNcXlqc",
      "execution_count": 17,
      "outputs": [
        {
          "output_type": "execute_result",
          "data": {
            "text/plain": [
              "['my',\n",
              " 'name',\n",
              " 'is',\n",
              " 'carmelli',\n",
              " 'dao',\n",
              " 'i',\n",
              " 'currently',\n",
              " 'live',\n",
              " 'in',\n",
              " 'waterloo']"
            ]
          },
          "metadata": {},
          "execution_count": 17
        }
      ]
    },
    {
      "cell_type": "code",
      "source": [
        "[cleanWord(word) for word in myString.split() if len(cleanWord(word)) <3 ]"
      ],
      "metadata": {
        "id": "RH5fhYksZAID",
        "outputId": "f9e2ff2a-f44f-47ce-8de3-3ce7714a6508",
        "colab": {
          "base_uri": "https://localhost:8080/"
        }
      },
      "id": "RH5fhYksZAID",
      "execution_count": 20,
      "outputs": [
        {
          "output_type": "execute_result",
          "data": {
            "text/plain": [
              "['my', 'is', 'i', 'in']"
            ]
          },
          "metadata": {},
          "execution_count": 20
        }
      ]
    },
    {
      "cell_type": "markdown",
      "source": [
        "**Nested list comprehensions**"
      ],
      "metadata": {
        "id": "9Q5y9gpQTh0M"
      },
      "id": "9Q5y9gpQTh0M"
    },
    {
      "cell_type": "code",
      "source": [
        "[[cleanWord(word) for word in sentence.split()] for sentence in myString.split('.')]"
      ],
      "metadata": {
        "id": "0FMBi8C3TiJW",
        "outputId": "2bcfa751-e594-4637-c755-d2a0faeb6b17",
        "colab": {
          "base_uri": "https://localhost:8080/"
        }
      },
      "id": "0FMBi8C3TiJW",
      "execution_count": 22,
      "outputs": [
        {
          "output_type": "execute_result",
          "data": {
            "text/plain": [
              "[['my', 'name', 'is', 'carmelli', 'dao'],\n",
              " ['i', 'currently', 'live', 'in', 'waterloo']]"
            ]
          },
          "metadata": {},
          "execution_count": 22
        }
      ]
    }
  ],
  "metadata": {
    "kernelspec": {
      "display_name": "Python 3 (ipykernel)",
      "language": "python",
      "name": "python3"
    },
    "language_info": {
      "codemirror_mode": {
        "name": "ipython",
        "version": 3
      },
      "file_extension": ".py",
      "mimetype": "text/x-python",
      "name": "python",
      "nbconvert_exporter": "python",
      "pygments_lexer": "ipython3",
      "version": "3.10.2"
    },
    "colab": {
      "provenance": []
    }
  },
  "nbformat": 4,
  "nbformat_minor": 5
}
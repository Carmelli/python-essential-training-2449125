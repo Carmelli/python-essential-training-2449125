{
  "cells": [
    {
      "cell_type": "markdown",
      "id": "d86a6d06",
      "metadata": {
        "id": "d86a6d06"
      },
      "source": [
        "## Dictionary Comprehensions"
      ]
    },
    {
      "cell_type": "code",
      "execution_count": 4,
      "id": "92d3299d",
      "metadata": {
        "id": "92d3299d",
        "outputId": "8e2eaf4d-0f4c-4933-ac94-ba64802c718c",
        "colab": {
          "base_uri": "https://localhost:8080/"
        }
      },
      "outputs": [
        {
          "output_type": "execute_result",
          "data": {
            "text/plain": [
              "{'a': 'aardvark', 'b': 'bear', 'c': 'cat', 'd': 'dog'}"
            ]
          },
          "metadata": {},
          "execution_count": 4
        }
      ],
      "source": [
        "animalList = [('a','aardvark'),('b','bear'),('c','cat'),('d','dog')]\n",
        "animals = {item[0]: item[1] for item in animalList}\n",
        "animals\n"
      ]
    },
    {
      "cell_type": "code",
      "source": [
        "animals = {key:value for key, value in animalList}\n",
        "animals\n"
      ],
      "metadata": {
        "id": "7e1ttXwww-hW",
        "outputId": "857ecf4b-bfd9-4b52-ff88-bbcbeaadac6e",
        "colab": {
          "base_uri": "https://localhost:8080/"
        }
      },
      "id": "7e1ttXwww-hW",
      "execution_count": 5,
      "outputs": [
        {
          "output_type": "execute_result",
          "data": {
            "text/plain": [
              "{'a': 'aardvark', 'b': 'bear', 'c': 'cat', 'd': 'dog'}"
            ]
          },
          "metadata": {},
          "execution_count": 5
        }
      ]
    },
    {
      "cell_type": "code",
      "source": [
        "animals.items()"
      ],
      "metadata": {
        "id": "LxlV1yJQxaPr",
        "outputId": "d19549f5-3910-4d4f-a2e1-d9a40cfea216",
        "colab": {
          "base_uri": "https://localhost:8080/"
        }
      },
      "id": "LxlV1yJQxaPr",
      "execution_count": 6,
      "outputs": [
        {
          "output_type": "execute_result",
          "data": {
            "text/plain": [
              "dict_items([('a', 'aardvark'), ('b', 'bear'), ('c', 'cat'), ('d', 'dog')])"
            ]
          },
          "metadata": {},
          "execution_count": 6
        }
      ]
    },
    {
      "cell_type": "code",
      "source": [
        "list(animals.items())"
      ],
      "metadata": {
        "id": "QrbmFiOFxfkB",
        "outputId": "a2c0d8cf-0af5-4a1b-e0ef-4d3dc453b8ae",
        "colab": {
          "base_uri": "https://localhost:8080/"
        }
      },
      "id": "QrbmFiOFxfkB",
      "execution_count": 7,
      "outputs": [
        {
          "output_type": "execute_result",
          "data": {
            "text/plain": [
              "[('a', 'aardvark'), ('b', 'bear'), ('c', 'cat'), ('d', 'dog')]"
            ]
          },
          "metadata": {},
          "execution_count": 7
        }
      ]
    },
    {
      "cell_type": "code",
      "source": [
        "[{'letter':key,'name': value} for key, value in animals.items()]"
      ],
      "metadata": {
        "id": "NHKzIhJexi4R",
        "outputId": "040a13e7-eb68-41e1-dc8d-120c9fd80419",
        "colab": {
          "base_uri": "https://localhost:8080/"
        }
      },
      "id": "NHKzIhJexi4R",
      "execution_count": 8,
      "outputs": [
        {
          "output_type": "execute_result",
          "data": {
            "text/plain": [
              "[{'letter': 'a', 'name': 'aardvark'},\n",
              " {'letter': 'b', 'name': 'bear'},\n",
              " {'letter': 'c', 'name': 'cat'},\n",
              " {'letter': 'd', 'name': 'dog'}]"
            ]
          },
          "metadata": {},
          "execution_count": 8
        }
      ]
    }
  ],
  "metadata": {
    "kernelspec": {
      "display_name": "Python 3 (ipykernel)",
      "language": "python",
      "name": "python3"
    },
    "language_info": {
      "codemirror_mode": {
        "name": "ipython",
        "version": 3
      },
      "file_extension": ".py",
      "mimetype": "text/x-python",
      "name": "python",
      "nbconvert_exporter": "python",
      "pygments_lexer": "ipython3",
      "version": "3.10.2"
    },
    "colab": {
      "provenance": []
    }
  },
  "nbformat": 4,
  "nbformat_minor": 5
}
{
  "cells": [
    {
      "cell_type": "code",
      "execution_count": 1,
      "id": "9249f4f1",
      "metadata": {
        "id": "9249f4f1"
      },
      "outputs": [],
      "source": [
        "from datetime import datetime"
      ]
    },
    {
      "cell_type": "markdown",
      "id": "d1bb145a",
      "metadata": {
        "id": "d1bb145a"
      },
      "source": [
        "## While loops"
      ]
    },
    {
      "cell_type": "code",
      "execution_count": 6,
      "id": "8ac1cccc",
      "metadata": {
        "id": "8ac1cccc",
        "outputId": "2b8301e5-0252-4b57-b90d-b3e25a69da16",
        "colab": {
          "base_uri": "https://localhost:8080/"
        }
      },
      "outputs": [
        {
          "output_type": "execute_result",
          "data": {
            "text/plain": [
              "14"
            ]
          },
          "metadata": {},
          "execution_count": 6
        }
      ],
      "source": [
        "datetime.now().second"
      ]
    },
    {
      "cell_type": "code",
      "execution_count": 7,
      "id": "8305bc47",
      "metadata": {
        "id": "8305bc47",
        "outputId": "8cdb91a3-9b80-4900-9321-2fbc35462386",
        "colab": {
          "base_uri": "https://localhost:8080/",
          "height": 130
        }
      },
      "outputs": [
        {
          "output_type": "error",
          "ename": "SyntaxError",
          "evalue": "ignored",
          "traceback": [
            "\u001b[0;36m  File \u001b[0;32m\"<ipython-input-7-f0ce49b9b5e3>\"\u001b[0;36m, line \u001b[0;32m3\u001b[0m\n\u001b[0;31m    while datetime.now().second := wait_until:\u001b[0m\n\u001b[0m          ^\u001b[0m\n\u001b[0;31mSyntaxError\u001b[0m\u001b[0;31m:\u001b[0m cannot use assignment expressions with attribute\n"
          ]
        }
      ],
      "source": [
        "wait_until = datetimenow().send + 2\n",
        "\n",
        "while datetime.now().second := wait_until:\n",
        "  1 + 1\n",
        "print(f'We are at (wait_until) seconds!')"
      ]
    },
    {
      "cell_type": "code",
      "execution_count": null,
      "id": "65d3474c",
      "metadata": {
        "id": "65d3474c"
      },
      "outputs": [],
      "source": []
    },
    {
      "cell_type": "markdown",
      "id": "a1f12c35",
      "metadata": {
        "id": "a1f12c35"
      },
      "source": [
        "### Pass"
      ]
    },
    {
      "cell_type": "code",
      "execution_count": null,
      "id": "edfe8ebb",
      "metadata": {
        "id": "edfe8ebb"
      },
      "outputs": [],
      "source": []
    },
    {
      "cell_type": "markdown",
      "id": "fa41df5c",
      "metadata": {
        "id": "fa41df5c"
      },
      "source": [
        "### Break"
      ]
    },
    {
      "cell_type": "code",
      "execution_count": null,
      "id": "36a482fe",
      "metadata": {
        "id": "36a482fe"
      },
      "outputs": [],
      "source": []
    },
    {
      "cell_type": "code",
      "execution_count": null,
      "id": "6375cd4b",
      "metadata": {
        "id": "6375cd4b"
      },
      "outputs": [],
      "source": []
    },
    {
      "cell_type": "markdown",
      "id": "6275aae2",
      "metadata": {
        "id": "6275aae2"
      },
      "source": [
        "### Continue"
      ]
    },
    {
      "cell_type": "code",
      "execution_count": null,
      "id": "db03f4b7",
      "metadata": {
        "id": "db03f4b7"
      },
      "outputs": [],
      "source": []
    },
    {
      "cell_type": "code",
      "execution_count": null,
      "id": "f9562c05",
      "metadata": {
        "id": "f9562c05"
      },
      "outputs": [],
      "source": []
    },
    {
      "cell_type": "code",
      "execution_count": null,
      "id": "59f9ff80",
      "metadata": {
        "id": "59f9ff80"
      },
      "outputs": [],
      "source": []
    }
  ],
  "metadata": {
    "kernelspec": {
      "display_name": "Python 3 (ipykernel)",
      "language": "python",
      "name": "python3"
    },
    "language_info": {
      "codemirror_mode": {
        "name": "ipython",
        "version": 3
      },
      "file_extension": ".py",
      "mimetype": "text/x-python",
      "name": "python",
      "nbconvert_exporter": "python",
      "pygments_lexer": "ipython3",
      "version": "3.10.2"
    },
    "colab": {
      "provenance": []
    }
  },
  "nbformat": 4,
  "nbformat_minor": 5
}
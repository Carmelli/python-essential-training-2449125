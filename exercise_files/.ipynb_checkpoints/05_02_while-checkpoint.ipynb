{
  "cells": [
    {
      "cell_type": "code",
      "execution_count": 2,
      "id": "9249f4f1",
      "metadata": {
        "id": "9249f4f1"
      },
      "outputs": [],
      "source": [
        "from datetime import datetime"
      ]
    },
    {
      "cell_type": "markdown",
      "id": "d1bb145a",
      "metadata": {
        "id": "d1bb145a"
      },
      "source": [
        "## While loops"
      ]
    },
    {
      "cell_type": "code",
      "execution_count": 6,
      "id": "8ac1cccc",
      "metadata": {
        "id": "8ac1cccc",
        "outputId": "bcd2e741-4cbf-4496-f4db-b96b4aa1cb9e",
        "colab": {
          "base_uri": "https://localhost:8080/"
        }
      },
      "outputs": [
        {
          "output_type": "execute_result",
          "data": {
            "text/plain": [
              "0"
            ]
          },
          "metadata": {},
          "execution_count": 6
        }
      ],
      "source": [
        "datetime.now().second"
      ]
    },
    {
      "cell_type": "code",
      "execution_count": 11,
      "id": "8305bc47",
      "metadata": {
        "id": "8305bc47",
        "outputId": "1870b9c0-a2c2-4227-91fb-96ab63aa0925",
        "colab": {
          "base_uri": "https://localhost:8080/"
        }
      },
      "outputs": [
        {
          "output_type": "stream",
          "name": "stdout",
          "text": [
            "We are at 31 seconds!\n"
          ]
        }
      ],
      "source": [
        "wait_until = datetime.now().second + 2\n",
        "while datetime.now().second != wait_until:\n",
        "  pass\n",
        "print(f'We are at {wait_until} seconds!')"
      ]
    },
    {
      "cell_type": "code",
      "execution_count": 13,
      "id": "65d3474c",
      "metadata": {
        "id": "65d3474c",
        "outputId": "f1fd521d-2c35-47de-a123-a3181c4c9050",
        "colab": {
          "base_uri": "https://localhost:8080/"
        }
      },
      "outputs": [
        {
          "output_type": "stream",
          "name": "stdout",
          "text": [
            "We are at 19 seconds!\n"
          ]
        }
      ],
      "source": [
        "wait_until = datetime.now().second + 2\n",
        "while True:\n",
        "  if datetime.now().second == wait_until:\n",
        "    print(f'We are at {wait_until} seconds!')\n",
        "    break"
      ]
    },
    {
      "cell_type": "markdown",
      "id": "a1f12c35",
      "metadata": {
        "id": "a1f12c35"
      },
      "source": [
        "### Pass"
      ]
    },
    {
      "cell_type": "code",
      "execution_count": null,
      "id": "edfe8ebb",
      "metadata": {
        "id": "edfe8ebb"
      },
      "outputs": [],
      "source": []
    },
    {
      "cell_type": "markdown",
      "id": "fa41df5c",
      "metadata": {
        "id": "fa41df5c"
      },
      "source": [
        "### Break"
      ]
    },
    {
      "cell_type": "code",
      "execution_count": null,
      "id": "36a482fe",
      "metadata": {
        "id": "36a482fe"
      },
      "outputs": [],
      "source": []
    },
    {
      "cell_type": "code",
      "execution_count": null,
      "id": "6375cd4b",
      "metadata": {
        "id": "6375cd4b"
      },
      "outputs": [],
      "source": []
    },
    {
      "cell_type": "markdown",
      "id": "6275aae2",
      "metadata": {
        "id": "6275aae2"
      },
      "source": [
        "### Continue"
      ]
    },
    {
      "cell_type": "code",
      "execution_count": null,
      "id": "db03f4b7",
      "metadata": {
        "id": "db03f4b7"
      },
      "outputs": [],
      "source": [
        "wait_until = datetime.now().second + 2\n",
        "while datetime.now().second != wait_until:\n",
        " continue \n",
        "  print(\"Still waiting!\")\n",
        "print(f'We are at {wait_until} seconds!')"
      ]
    },
    {
      "cell_type": "code",
      "execution_count": null,
      "id": "f9562c05",
      "metadata": {
        "id": "f9562c05"
      },
      "outputs": [],
      "source": []
    },
    {
      "cell_type": "code",
      "execution_count": null,
      "id": "59f9ff80",
      "metadata": {
        "id": "59f9ff80"
      },
      "outputs": [],
      "source": []
    }
  ],
  "metadata": {
    "kernelspec": {
      "display_name": "Python 3 (ipykernel)",
      "language": "python",
      "name": "python3"
    },
    "language_info": {
      "codemirror_mode": {
        "name": "ipython",
        "version": 3
      },
      "file_extension": ".py",
      "mimetype": "text/x-python",
      "name": "python",
      "nbconvert_exporter": "python",
      "pygments_lexer": "ipython3",
      "version": "3.10.2"
    },
    "colab": {
      "provenance": []
    }
  },
  "nbformat": 4,
  "nbformat_minor": 5
}
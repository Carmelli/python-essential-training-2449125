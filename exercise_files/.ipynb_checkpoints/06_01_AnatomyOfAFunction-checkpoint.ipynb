{
  "cells": [
    {
      "cell_type": "code",
      "source": [
        "import math"
      ],
      "metadata": {
        "id": "S5k6YeDDt1Kj"
      },
      "id": "S5k6YeDDt1Kj",
      "execution_count": 6,
      "outputs": []
    },
    {
      "cell_type": "markdown",
      "id": "f4faef5f",
      "metadata": {
        "id": "f4faef5f"
      },
      "source": [
        "## Functions"
      ]
    },
    {
      "cell_type": "code",
      "execution_count": 1,
      "id": "5df05257",
      "metadata": {
        "id": "5df05257",
        "outputId": "9258cb5e-476b-433d-ac79-88125b98e13f",
        "colab": {
          "base_uri": "https://localhost:8080/"
        }
      },
      "outputs": [
        {
          "output_type": "execute_result",
          "data": {
            "text/plain": [
              "12"
            ]
          },
          "metadata": {},
          "execution_count": 1
        }
      ],
      "source": [
        "def performOperation(num1,num2,operation):\n",
        "  if operation =='sum':\n",
        "    return num1 + num2\n",
        "  if operation == 'multiply':\n",
        "    return num1 * num2\n",
        "\n",
        "performOperation(3,4,'multiply')"
      ]
    },
    {
      "cell_type": "code",
      "source": [],
      "metadata": {
        "id": "kdFFRskeoGd0"
      },
      "id": "kdFFRskeoGd0",
      "execution_count": null,
      "outputs": []
    },
    {
      "cell_type": "markdown",
      "id": "4ab92c6d",
      "metadata": {
        "id": "4ab92c6d"
      },
      "source": [
        "### Named Parameters"
      ]
    },
    {
      "cell_type": "code",
      "execution_count": 3,
      "id": "4ebd385a",
      "metadata": {
        "id": "4ebd385a",
        "outputId": "b1294560-a2ee-4cec-99a7-81f8252bb7c1",
        "colab": {
          "base_uri": "https://localhost:8080/"
        }
      },
      "outputs": [
        {
          "output_type": "execute_result",
          "data": {
            "text/plain": [
              "15"
            ]
          },
          "metadata": {},
          "execution_count": 3
        }
      ],
      "source": [
        "def performOperation(num1,num2,operation='sum',message='Default message'):\n",
        "  print(message)\n",
        "  if operation =='sum':\n",
        "    return num1 + num2\n",
        "  if operation == 'multiply':\n",
        "    return num1 * num2\n",
        "\n",
        "performOperation(6,9, message='A new message!',operation= 'multiply')\n",
        "# name parameters and keyword arguments allow us to do things like perform operations without having to type in the type of operation each time\n",
        "#Keyword arguments are values that when passed into a function, are identifiable by specific parameter names\n",
        "# A keyword argument is preceded by a parameter and then the assignment operator\n",
        "# A parameter is the variable listed inside the parantheses in the function definition\n",
        "#In this case, the parameter would be 'sum' and the keyword argument would be operation"
      ]
    },
    {
      "cell_type": "markdown",
      "source": [
        "***args**"
      ],
      "metadata": {
        "id": "tj8cMIBcraSy"
      },
      "id": "tj8cMIBcraSy"
    },
    {
      "cell_type": "code",
      "source": [
        "def performOperation(*args):\n",
        "  print(args)\n",
        "\n",
        "performOperation(1,2,3)\n",
        "\n",
        "#*args allows us to pass n numbers of non-keyword arguments in Python"
      ],
      "metadata": {
        "id": "12XT5hlereFS",
        "outputId": "a4742c68-90b1-4d99-9ab3-a05c0f7ed090",
        "colab": {
          "base_uri": "https://localhost:8080/"
        }
      },
      "id": "12XT5hlereFS",
      "execution_count": 4,
      "outputs": [
        {
          "output_type": "stream",
          "name": "stdout",
          "text": [
            "(1, 2, 3)\n"
          ]
        }
      ]
    },
    {
      "cell_type": "markdown",
      "source": [],
      "metadata": {
        "id": "JjrLO6I6si0-"
      },
      "id": "JjrLO6I6si0-"
    },
    {
      "cell_type": "markdown",
      "source": [
        "***kwargs**"
      ],
      "metadata": {
        "id": "16FwjapDswYu"
      },
      "id": "16FwjapDswYu"
    },
    {
      "cell_type": "code",
      "source": [
        "def performOperation(*args,**kwargs):\n",
        "  print(args)\n",
        "  print(kwargs)\n",
        "performOperation(1,2,3,operation='sum')\n",
        "#prints the keyword arguments and positional arguments, args prints the positional arguments and kwargs prints the keyword arguments"
      ],
      "metadata": {
        "id": "HZffIWf6s2BK",
        "outputId": "ec8c3170-91b5-40e5-9aa5-6fe0956f1618",
        "colab": {
          "base_uri": "https://localhost:8080/"
        }
      },
      "id": "HZffIWf6s2BK",
      "execution_count": 5,
      "outputs": [
        {
          "output_type": "stream",
          "name": "stdout",
          "text": [
            "(1, 2, 3)\n",
            "{'operation': 'sum'}\n"
          ]
        }
      ]
    },
    {
      "cell_type": "code",
      "source": [
        "def performOperation(*args,operation='sum'):\n",
        "  if operation =='sum':\n",
        "    return sum(args)\n",
        "  if operation == 'multiply':\n",
        "    return math.prod(args)\n",
        "\n",
        "performOperation(6,9,10, operation= 'sum')"
      ],
      "metadata": {
        "id": "Ly6vnvGst4ZI",
        "outputId": "409f0834-036c-48d4-ea43-43db40b67c0e",
        "colab": {
          "base_uri": "https://localhost:8080/"
        }
      },
      "id": "Ly6vnvGst4ZI",
      "execution_count": 9,
      "outputs": [
        {
          "output_type": "execute_result",
          "data": {
            "text/plain": [
              "25"
            ]
          },
          "metadata": {},
          "execution_count": 9
        }
      ]
    },
    {
      "cell_type": "markdown",
      "source": [],
      "metadata": {
        "id": "xsMHRLTUs1Vk"
      },
      "id": "xsMHRLTUs1Vk"
    }
  ],
  "metadata": {
    "kernelspec": {
      "display_name": "Python 3 (ipykernel)",
      "language": "python",
      "name": "python3"
    },
    "language_info": {
      "codemirror_mode": {
        "name": "ipython",
        "version": 3
      },
      "file_extension": ".py",
      "mimetype": "text/x-python",
      "name": "python",
      "nbconvert_exporter": "python",
      "pygments_lexer": "ipython3",
      "version": "3.10.2"
    },
    "colab": {
      "provenance": []
    }
  },
  "nbformat": 4,
  "nbformat_minor": 5
}
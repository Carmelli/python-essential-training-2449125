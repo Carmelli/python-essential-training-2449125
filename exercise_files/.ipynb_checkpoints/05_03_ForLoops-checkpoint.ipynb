{
  "cells": [
    {
      "cell_type": "markdown",
      "id": "6e97b9bf",
      "metadata": {
        "id": "6e97b9bf"
      },
      "source": [
        "## For"
      ]
    },
    {
      "cell_type": "code",
      "execution_count": 1,
      "id": "5d4b6b1b",
      "metadata": {
        "id": "5d4b6b1b",
        "outputId": "17a5ba02-4c97-46e9-c07e-8255d818c860",
        "colab": {
          "base_uri": "https://localhost:8080/"
        }
      },
      "outputs": [
        {
          "output_type": "stream",
          "name": "stdout",
          "text": [
            "1\n",
            "2\n",
            "3\n",
            "4\n",
            "5\n"
          ]
        }
      ],
      "source": [
        "myList = [1,2,3,4,5]\n",
        "for item in myList:\n",
        "  print(item)"
      ]
    },
    {
      "cell_type": "markdown",
      "id": "905ce61c",
      "metadata": {
        "id": "905ce61c"
      },
      "source": [
        "### Pass"
      ]
    },
    {
      "cell_type": "code",
      "execution_count": 15,
      "id": "190c632c",
      "metadata": {
        "id": "190c632c"
      },
      "outputs": [],
      "source": [
        "animalLookup = {\n",
        "    'a':['aardvark','antelope'],\n",
        "    'b':['bear','boar'],\n",
        "    'c':['cat'],\n",
        "    'd':['dog'],\n",
        "}\n",
        "for letter, animals in animalLookup.items():\n",
        "  pass\n"
      ]
    },
    {
      "cell_type": "markdown",
      "id": "aa2e7a59",
      "metadata": {
        "id": "aa2e7a59"
      },
      "source": [
        "### Continue"
      ]
    },
    {
      "cell_type": "code",
      "execution_count": 16,
      "id": "9bae4823",
      "metadata": {
        "id": "9bae4823",
        "outputId": "0300c596-0e84-49bc-97fc-e34bca8c4761",
        "colab": {
          "base_uri": "https://localhost:8080/"
        }
      },
      "outputs": [
        {
          "output_type": "stream",
          "name": "stdout",
          "text": [
            "Only one animal: cat\n",
            "Only one animal: dog\n"
          ]
        }
      ],
      "source": [
        "for letter, animals in animalLookup.items():\n",
        "  if len(animals)> 1:\n",
        "    continue\n",
        "  print(f'Only one animal: {animals[0]}')\n",
        "  # remember how python uses zero based counting? animals[0] calls out the first \"value\" in a key,dictionary pair\n",
        "  # The continue keyword is used to end the current iteration in a for loop (or a while loop), and continues to the next iteration.\n",
        "  # continue loop is like (in this case): heyyy if the length of animals is greater than one, continue to do nothing, else print the \"function\""
      ]
    },
    {
      "cell_type": "code",
      "source": [
        "for letter, animals in animalLookup.items():\n",
        "  if len(animals)> 1:\n",
        "    continue\n",
        "  print(f'Only one animal: {animals[0]}')\n",
        "  # remember how python uses zero based counting? animals[0] calls out the first \"value\" in a key,dictionary pair"
      ],
      "metadata": {
        "id": "TdW9A6JYJ1Yd"
      },
      "id": "TdW9A6JYJ1Yd",
      "execution_count": null,
      "outputs": []
    },
    {
      "cell_type": "markdown",
      "id": "d6d0ce9c",
      "metadata": {
        "id": "d6d0ce9c"
      },
      "source": [
        "### Break"
      ]
    },
    {
      "cell_type": "code",
      "execution_count": 20,
      "id": "725b3e12",
      "metadata": {
        "id": "725b3e12",
        "outputId": "b08915b3-e817-4542-ad3f-6aac9be6d5f3",
        "colab": {
          "base_uri": "https://localhost:8080/"
        }
      },
      "outputs": [
        {
          "output_type": "stream",
          "name": "stdout",
          "text": [
            "Found 2: ['aardvark', 'antelope']\n"
          ]
        }
      ],
      "source": [
        "for letter, animals in animalLookup.items():\n",
        "  if len(animals)> 1:\n",
        "    print(f'Found {len(animals)}: {animals}')\n",
        "    break\n",
        "  # Suppose you want to terminate a loop and skip to the next code after the loop; break will help you do that. \n"
      ]
    },
    {
      "cell_type": "markdown",
      "id": "b48d42fc",
      "metadata": {
        "id": "b48d42fc"
      },
      "source": [
        "### For / Else"
      ]
    },
    {
      "cell_type": "code",
      "execution_count": 21,
      "id": "4d74a187",
      "metadata": {
        "id": "4d74a187",
        "outputId": "ac3737d5-ed9d-4b3a-dd6d-9d8ccffce000",
        "colab": {
          "base_uri": "https://localhost:8080/"
        }
      },
      "outputs": [
        {
          "output_type": "stream",
          "name": "stdout",
          "text": [
            "2 is prime\n",
            "3 is prime\n",
            "4 is prime\n",
            "5 is prime\n",
            "6 is prime\n",
            "7 is prime\n",
            "8 is prime\n",
            "9 is prime\n",
            "11 is prime\n",
            "13 is prime\n",
            "15 is prime\n",
            "17 is prime\n",
            "19 is prime\n",
            "23 is prime\n",
            "25 is prime\n",
            "29 is prime\n",
            "31 is prime\n",
            "35 is prime\n",
            "37 is prime\n",
            "41 is prime\n",
            "43 is prime\n",
            "47 is prime\n",
            "49 is prime\n",
            "53 is prime\n",
            "59 is prime\n",
            "61 is prime\n",
            "67 is prime\n",
            "71 is prime\n",
            "73 is prime\n",
            "79 is prime\n",
            "83 is prime\n",
            "89 is prime\n",
            "97 is prime\n"
          ]
        }
      ],
      "source": [
        "for number in range(2,100):\n",
        "  for factor in range(2,int(number**0.5)):\n",
        "    if number % factor == 0: \n",
        "      break\n",
        "      \n",
        "      #  when the number can be taken as a square root and left as an integer, we know it's not a prime number\n",
        "      # break is like: don;t do anything with the code above, move onto whatever else wants you to do\n",
        "  else: \n",
        "    print(f'{number} is prime')\n"
      ]
    },
    {
      "cell_type": "code",
      "execution_count": null,
      "id": "2d50a58d",
      "metadata": {
        "id": "2d50a58d",
        "outputId": "6c1488f9-4db5-4f3c-b405-e20f3ade7fbb"
      },
      "outputs": [
        {
          "name": "stdout",
          "output_type": "stream",
          "text": [
            "2 is prime!\n",
            "3 is prime!\n",
            "5 is prime!\n",
            "7 is prime!\n",
            "11 is prime!\n",
            "13 is prime!\n",
            "17 is prime!\n",
            "19 is prime!\n",
            "23 is prime!\n",
            "29 is prime!\n",
            "31 is prime!\n",
            "37 is prime!\n",
            "41 is prime!\n",
            "43 is prime!\n",
            "47 is prime!\n",
            "53 is prime!\n",
            "59 is prime!\n",
            "61 is prime!\n",
            "67 is prime!\n",
            "71 is prime!\n",
            "73 is prime!\n",
            "79 is prime!\n",
            "83 is prime!\n",
            "89 is prime!\n",
            "97 is prime!\n"
          ]
        }
      ],
      "source": []
    },
    {
      "cell_type": "code",
      "execution_count": null,
      "id": "22622ffa",
      "metadata": {
        "id": "22622ffa"
      },
      "outputs": [],
      "source": []
    }
  ],
  "metadata": {
    "kernelspec": {
      "display_name": "Python 3 (ipykernel)",
      "language": "python",
      "name": "python3"
    },
    "language_info": {
      "codemirror_mode": {
        "name": "ipython",
        "version": 3
      },
      "file_extension": ".py",
      "mimetype": "text/x-python",
      "name": "python",
      "nbconvert_exporter": "python",
      "pygments_lexer": "ipython3",
      "version": "3.10.4"
    },
    "colab": {
      "provenance": []
    }
  },
  "nbformat": 4,
  "nbformat_minor": 5
}